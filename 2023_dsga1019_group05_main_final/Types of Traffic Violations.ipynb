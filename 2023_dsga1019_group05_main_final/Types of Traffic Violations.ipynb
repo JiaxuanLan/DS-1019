{
 "cells": [
  {
   "cell_type": "code",
   "execution_count": 1,
   "id": "41d55894",
   "metadata": {},
   "outputs": [],
   "source": [
    "import numpy as np\n",
    "import pandas as pd\n",
    "from sklearn.preprocessing import PolynomialFeatures\n",
    "from sklearn import linear_model\n",
    "import matplotlib.pyplot as plt\n",
    "from sklearn.model_selection import train_test_split"
   ]
  },
  {
   "cell_type": "code",
   "execution_count": 2,
   "id": "f51f7440",
   "metadata": {},
   "outputs": [
    {
     "name": "stderr",
     "output_type": "stream",
     "text": [
      "/Users/yanghang/opt/anaconda3/lib/python3.8/site-packages/IPython/core/interactiveshell.py:3165: DtypeWarning: Columns (17,18,20,22,23,29,30,31,32,36,38,39,46) have mixed types.Specify dtype option on import or set low_memory=False.\n",
      "  has_raised = await self.run_ast_nodes(code_ast.body, cell_name,\n",
      "/Users/yanghang/opt/anaconda3/lib/python3.8/site-packages/IPython/core/interactiveshell.py:3165: DtypeWarning: Columns (17,18,20,22,23,29,30,31,32,36,38,39) have mixed types.Specify dtype option on import or set low_memory=False.\n",
      "  has_raised = await self.run_ast_nodes(code_ast.body, cell_name,\n"
     ]
    }
   ],
   "source": [
    "data_2018 = pd.read_csv('df_2018_total.csv')\n",
    "data_2019 = pd.read_csv('df_2019_total.csv')\n",
    "data_2020 = pd.read_csv('df_2020_total.csv')"
   ]
  },
  {
   "cell_type": "code",
   "execution_count": 4,
   "id": "643009ea",
   "metadata": {},
   "outputs": [
    {
     "data": {
      "text/html": [
       "<div>\n",
       "<style scoped>\n",
       "    .dataframe tbody tr th:only-of-type {\n",
       "        vertical-align: middle;\n",
       "    }\n",
       "\n",
       "    .dataframe tbody tr th {\n",
       "        vertical-align: top;\n",
       "    }\n",
       "\n",
       "    .dataframe thead th {\n",
       "        text-align: right;\n",
       "    }\n",
       "</style>\n",
       "<table border=\"1\" class=\"dataframe\">\n",
       "  <thead>\n",
       "    <tr style=\"text-align: right;\">\n",
       "      <th></th>\n",
       "      <th>Violation Description</th>\n",
       "    </tr>\n",
       "  </thead>\n",
       "  <tbody>\n",
       "    <tr>\n",
       "      <th>PHTO SCHOOL ZN SPEED VIOLATION</th>\n",
       "      <td>4397347</td>\n",
       "    </tr>\n",
       "    <tr>\n",
       "      <th>FAILURE TO STOP AT RED LIGHT</th>\n",
       "      <td>389420</td>\n",
       "    </tr>\n",
       "    <tr>\n",
       "      <th>BUS LANE VIOLATION</th>\n",
       "      <td>338606</td>\n",
       "    </tr>\n",
       "  </tbody>\n",
       "</table>\n",
       "</div>"
      ],
      "text/plain": [
       "                                Violation Description\n",
       "PHTO SCHOOL ZN SPEED VIOLATION                4397347\n",
       "FAILURE TO STOP AT RED LIGHT                   389420\n",
       "BUS LANE VIOLATION                             338606"
      ]
     },
     "execution_count": 4,
     "metadata": {},
     "output_type": "execute_result"
    }
   ],
   "source": [
    "violation_2018 = pd.DataFrame(data_2018['Violation Description'].value_counts())\n",
    "violation_2018 = violation_2018.head(3)\n",
    "violation_2018\n",
    "\n",
    "violation_2019 = pd.DataFrame(data_2019['Violation Description'].value_counts())\n",
    "violation_2019 = violation_2019.head(3)\n",
    "violation_2019\n",
    "\n",
    "violation_2020 = pd.DataFrame(data_2020['Violation Description'].value_counts())\n",
    "violation_2020 = violation_2020.head(3)\n",
    "violation_2020"
   ]
  },
  {
   "cell_type": "code",
   "execution_count": 7,
   "id": "baa9bae5",
   "metadata": {},
   "outputs": [
    {
     "data": {
      "text/plain": [
       "PHTO SCHOOL ZN SPEED VIOLATION    1013212\n",
       "FAILURE TO STOP AT RED LIGHT       486518\n",
       "BUS LANE VIOLATION                 212465\n",
       "38-Failure to Dsplay Meter Rec     127128\n",
       "21-No Parking (street clean)       123264\n",
       "                                   ...   \n",
       "06-Nighttime PKG (Trailer)              2\n",
       "79A-Bus Layover (W/ Pass)               1\n",
       "96-Railroad Crossing                    1\n",
       "12-No Stand (snow emergency)            1\n",
       "04B-Downtown Bus Area, No Prmt          1\n",
       "Name: Violation Description, Length: 92, dtype: int64"
      ]
     },
     "execution_count": 7,
     "metadata": {},
     "output_type": "execute_result"
    }
   ],
   "source": [
    "data_2018['Violation Description'].value_counts()"
   ]
  },
  {
   "cell_type": "code",
   "execution_count": 5,
   "id": "f60205c5",
   "metadata": {},
   "outputs": [
    {
     "data": {
      "text/plain": [
       "PHTO SCHOOL ZN SPEED VIOLATION    2350126\n",
       "FAILURE TO STOP AT RED LIGHT       429868\n",
       "BUS LANE VIOLATION                 248367\n",
       "MOBILE BUS LANE VIOLATION            2219\n",
       "Field Release Agreement               612\n",
       "Name: Violation Description, dtype: int64"
      ]
     },
     "execution_count": 5,
     "metadata": {},
     "output_type": "execute_result"
    }
   ],
   "source": [
    "data_2019['Violation Description'].value_counts()"
   ]
  },
  {
   "cell_type": "code",
   "execution_count": 6,
   "id": "7cf16698",
   "metadata": {},
   "outputs": [
    {
     "data": {
      "text/plain": [
       "PHTO SCHOOL ZN SPEED VIOLATION    4397347\n",
       "FAILURE TO STOP AT RED LIGHT       389420\n",
       "BUS LANE VIOLATION                 338606\n",
       "21-No Parking (street clean)       214599\n",
       "38-Failure to Dsplay Meter Rec     180539\n",
       "                                   ...   \n",
       "28-O/T STD,DPL/Con,30 Mn,D Dec          1\n",
       "08A-Engine Idling (School Zone          1\n",
       "6                                       1\n",
       "58-Marginal Street/Water Front          1\n",
       "79A-Bus Layover (W/ Pass)               1\n",
       "Name: Violation Description, Length: 97, dtype: int64"
      ]
     },
     "execution_count": 6,
     "metadata": {},
     "output_type": "execute_result"
    }
   ],
   "source": [
    "data_2020['Violation Description'].value_counts()"
   ]
  },
  {
   "cell_type": "code",
   "execution_count": 5,
   "id": "68583e44",
   "metadata": {},
   "outputs": [
    {
     "data": {
      "image/png": "[encoded data removed]",
      "text/plain": [
       "<Figure size 1440x720 with 1 Axes>"
      ]
     },
     "metadata": {
      "needs_background": "light"
     },
     "output_type": "display_data"
    }
   ],
   "source": [
    "\n",
    "fig,ax = plt.subplots(figsize =(20, 10))\n",
    "\n",
    "X = ['PHTO SCHOOL ZN SPEED VIOLATION','FAILURE TO STOP AT RED LIGHT','BUS LANE VIOLATION']\n",
    "\n",
    "X_axis = np.arange(len(X))\n",
    "\n",
    "  \n",
    "a = plt.bar(X_axis - 0.3, list(violation_2018['Violation Description']), 0.2, label = '2018')\n",
    "b = plt.bar(X_axis, list(violation_2019['Violation Description']), 0.2, label = '2019')\n",
    "c = plt.bar(X_axis + 0.3, list(violation_2020['Violation Description']), 0.2, label = '2020')\n",
    "  \n",
    "plt.xticks(X_axis, X)\n",
    "\n",
    "plt.xlabel(\"Type of Violations\", fontdict = {'fontsize' : 20})\n",
    "plt.ylabel(\"Number of Violations\", fontdict = {'fontsize' : 20})\n",
    "plt.title(\"Number of Violations of 2018-2020\", fontdict = {'fontsize' : 30})\n",
    "\n",
    "def autolabel(rects):\n",
    "    for rect in rects:\n",
    "        h = rect.get_height()\n",
    "        ax.text(rect.get_x()+rect.get_width()/2., 1.01*h, '%d'%int(h),\n",
    "                ha='center', va='bottom')\n",
    "\n",
    "autolabel(a)\n",
    "autolabel(b)\n",
    "autolabel(c)\n",
    "\n",
    "plt.legend()\n",
    "plt.show()"
   ]
  },
  {
   "cell_type": "markdown",
   "id": "fd2d1334",
   "metadata": {},
   "source": [
    "## Test"
   ]
  },
  {
   "cell_type": "code",
   "execution_count": 3,
   "id": "3f689f70",
   "metadata": {},
   "outputs": [
    {
     "data": {
      "text/html": [
       "<div>\n",
       "<style scoped>\n",
       "    .dataframe tbody tr th:only-of-type {\n",
       "        vertical-align: middle;\n",
       "    }\n",
       "\n",
       "    .dataframe tbody tr th {\n",
       "        vertical-align: top;\n",
       "    }\n",
       "\n",
       "    .dataframe thead th {\n",
       "        text-align: right;\n",
       "    }\n",
       "</style>\n",
       "<table border=\"1\" class=\"dataframe\">\n",
       "  <thead>\n",
       "    <tr style=\"text-align: right;\">\n",
       "      <th></th>\n",
       "      <th>Summons Number</th>\n",
       "      <th>Plate ID</th>\n",
       "      <th>Registration State</th>\n",
       "      <th>Plate Type</th>\n",
       "      <th>Issue Date</th>\n",
       "      <th>Violation Code</th>\n",
       "      <th>Vehicle Body Type</th>\n",
       "      <th>Vehicle Make</th>\n",
       "      <th>Issuing Agency</th>\n",
       "      <th>Street Code1</th>\n",
       "      <th>...</th>\n",
       "      <th>Meter Number</th>\n",
       "      <th>Feet From Curb</th>\n",
       "      <th>Violation Post Code</th>\n",
       "      <th>Violation Description</th>\n",
       "      <th>No Standing or Stopping Violation</th>\n",
       "      <th>Hydrant Violation</th>\n",
       "      <th>Double Parking Violation</th>\n",
       "      <th>Year</th>\n",
       "      <th>Month</th>\n",
       "      <th>Day</th>\n",
       "    </tr>\n",
       "  </thead>\n",
       "  <tbody>\n",
       "    <tr>\n",
       "      <th>0</th>\n",
       "      <td>5109306230</td>\n",
       "      <td>88009</td>\n",
       "      <td>NY</td>\n",
       "      <td>MED</td>\n",
       "      <td>2020-01-01</td>\n",
       "      <td>7</td>\n",
       "      <td>SUBN</td>\n",
       "      <td>JEEP</td>\n",
       "      <td>V</td>\n",
       "      <td>0</td>\n",
       "      <td>...</td>\n",
       "      <td>NaN</td>\n",
       "      <td>0</td>\n",
       "      <td>NaN</td>\n",
       "      <td>FAILURE TO STOP AT RED LIGHT</td>\n",
       "      <td>NaN</td>\n",
       "      <td>NaN</td>\n",
       "      <td>NaN</td>\n",
       "      <td>2020</td>\n",
       "      <td>1</td>\n",
       "      <td>1</td>\n",
       "    </tr>\n",
       "    <tr>\n",
       "      <th>1</th>\n",
       "      <td>5109308240</td>\n",
       "      <td>LCH6921</td>\n",
       "      <td>PA</td>\n",
       "      <td>PAS</td>\n",
       "      <td>2020-01-01</td>\n",
       "      <td>7</td>\n",
       "      <td>SW</td>\n",
       "      <td>CHEVR</td>\n",
       "      <td>V</td>\n",
       "      <td>0</td>\n",
       "      <td>...</td>\n",
       "      <td>NaN</td>\n",
       "      <td>0</td>\n",
       "      <td>NaN</td>\n",
       "      <td>FAILURE TO STOP AT RED LIGHT</td>\n",
       "      <td>NaN</td>\n",
       "      <td>NaN</td>\n",
       "      <td>NaN</td>\n",
       "      <td>2020</td>\n",
       "      <td>1</td>\n",
       "      <td>1</td>\n",
       "    </tr>\n",
       "    <tr>\n",
       "      <th>2</th>\n",
       "      <td>5600024162</td>\n",
       "      <td>EHM3610</td>\n",
       "      <td>NY</td>\n",
       "      <td>PAS</td>\n",
       "      <td>2020-01-02</td>\n",
       "      <td>12</td>\n",
       "      <td>SUBN</td>\n",
       "      <td>MAZDA</td>\n",
       "      <td>V</td>\n",
       "      <td>0</td>\n",
       "      <td>...</td>\n",
       "      <td>NaN</td>\n",
       "      <td>0</td>\n",
       "      <td>NaN</td>\n",
       "      <td>MOBILE BUS LANE VIOLATION</td>\n",
       "      <td>NaN</td>\n",
       "      <td>NaN</td>\n",
       "      <td>NaN</td>\n",
       "      <td>2020</td>\n",
       "      <td>1</td>\n",
       "      <td>2</td>\n",
       "    </tr>\n",
       "    <tr>\n",
       "      <th>3</th>\n",
       "      <td>5600024150</td>\n",
       "      <td>AB64604</td>\n",
       "      <td>CT</td>\n",
       "      <td>PAS</td>\n",
       "      <td>2020-01-02</td>\n",
       "      <td>12</td>\n",
       "      <td>PK</td>\n",
       "      <td>TOYOT</td>\n",
       "      <td>V</td>\n",
       "      <td>0</td>\n",
       "      <td>...</td>\n",
       "      <td>NaN</td>\n",
       "      <td>0</td>\n",
       "      <td>NaN</td>\n",
       "      <td>MOBILE BUS LANE VIOLATION</td>\n",
       "      <td>NaN</td>\n",
       "      <td>NaN</td>\n",
       "      <td>NaN</td>\n",
       "      <td>2020</td>\n",
       "      <td>1</td>\n",
       "      <td>2</td>\n",
       "    </tr>\n",
       "    <tr>\n",
       "      <th>4</th>\n",
       "      <td>5600024046</td>\n",
       "      <td>T713131C</td>\n",
       "      <td>NY</td>\n",
       "      <td>OMT</td>\n",
       "      <td>2020-01-02</td>\n",
       "      <td>12</td>\n",
       "      <td>4DSD</td>\n",
       "      <td>NISSA</td>\n",
       "      <td>V</td>\n",
       "      <td>0</td>\n",
       "      <td>...</td>\n",
       "      <td>NaN</td>\n",
       "      <td>0</td>\n",
       "      <td>NaN</td>\n",
       "      <td>MOBILE BUS LANE VIOLATION</td>\n",
       "      <td>NaN</td>\n",
       "      <td>NaN</td>\n",
       "      <td>NaN</td>\n",
       "      <td>2020</td>\n",
       "      <td>1</td>\n",
       "      <td>2</td>\n",
       "    </tr>\n",
       "  </tbody>\n",
       "</table>\n",
       "<p>5 rows × 46 columns</p>\n",
       "</div>"
      ],
      "text/plain": [
       "   Summons Number  Plate ID Registration State Plate Type  Issue Date  \\\n",
       "0      5109306230     88009                 NY        MED  2020-01-01   \n",
       "1      5109308240   LCH6921                 PA        PAS  2020-01-01   \n",
       "2      5600024162   EHM3610                 NY        PAS  2020-01-02   \n",
       "3      5600024150   AB64604                 CT        PAS  2020-01-02   \n",
       "4      5600024046  T713131C                 NY        OMT  2020-01-02   \n",
       "\n",
       "   Violation Code Vehicle Body Type Vehicle Make Issuing Agency  Street Code1  \\\n",
       "0               7              SUBN         JEEP              V             0   \n",
       "1               7                SW        CHEVR              V             0   \n",
       "2              12              SUBN        MAZDA              V             0   \n",
       "3              12                PK        TOYOT              V             0   \n",
       "4              12              4DSD        NISSA              V             0   \n",
       "\n",
       "   ...  Meter Number  Feet From Curb  Violation Post Code  \\\n",
       "0  ...           NaN               0                  NaN   \n",
       "1  ...           NaN               0                  NaN   \n",
       "2  ...           NaN               0                  NaN   \n",
       "3  ...           NaN               0                  NaN   \n",
       "4  ...           NaN               0                  NaN   \n",
       "\n",
       "          Violation Description  No Standing or Stopping Violation  \\\n",
       "0  FAILURE TO STOP AT RED LIGHT                                NaN   \n",
       "1  FAILURE TO STOP AT RED LIGHT                                NaN   \n",
       "2     MOBILE BUS LANE VIOLATION                                NaN   \n",
       "3     MOBILE BUS LANE VIOLATION                                NaN   \n",
       "4     MOBILE BUS LANE VIOLATION                                NaN   \n",
       "\n",
       "   Hydrant Violation  Double Parking Violation  Year Month Day  \n",
       "0                NaN                       NaN  2020     1   1  \n",
       "1                NaN                       NaN  2020     1   1  \n",
       "2                NaN                       NaN  2020     1   2  \n",
       "3                NaN                       NaN  2020     1   2  \n",
       "4                NaN                       NaN  2020     1   2  \n",
       "\n",
       "[5 rows x 46 columns]"
      ]
     },
     "execution_count": 3,
     "metadata": {},
     "output_type": "execute_result"
    }
   ],
   "source": [
    "data_2020.head()"
   ]
  },
  {
   "cell_type": "code",
   "execution_count": 13,
   "id": "c6be4773",
   "metadata": {},
   "outputs": [
    {
     "data": {
      "text/plain": [
       "6395090"
      ]
     },
     "execution_count": 13,
     "metadata": {},
     "output_type": "execute_result"
    }
   ],
   "source": [
    "data_2020['Violation Description'].isna().sum().sum() #nah value in 2020"
   ]
  },
  {
   "cell_type": "code",
   "execution_count": null,
   "id": "fa1faa79",
   "metadata": {},
   "outputs": [],
   "source": [
    "data_2020['Violation Description'].dropna().sum()"
   ]
  },
  {
   "cell_type": "code",
   "execution_count": 15,
   "id": "1166d402",
   "metadata": {},
   "outputs": [
    {
     "data": {
      "text/plain": [
       "13081611"
      ]
     },
     "execution_count": 15,
     "metadata": {},
     "output_type": "execute_result"
    }
   ],
   "source": [
    "len(data_2020['Violation Description'])"
   ]
  },
  {
   "cell_type": "code",
   "execution_count": 5,
   "id": "91f68e09",
   "metadata": {},
   "outputs": [
    {
     "data": {
      "text/plain": [
       "13081611"
      ]
     },
     "execution_count": 5,
     "metadata": {},
     "output_type": "execute_result"
    }
   ],
   "source": [
    "len(data_2020)"
   ]
  },
  {
   "cell_type": "code",
   "execution_count": 8,
   "id": "c81cb778",
   "metadata": {},
   "outputs": [
    {
     "data": {
      "text/plain": [
       "13081611"
      ]
     },
     "execution_count": 8,
     "metadata": {},
     "output_type": "execute_result"
    }
   ],
   "source": [
    "len(data_2020)"
   ]
  },
  {
   "cell_type": "code",
   "execution_count": null,
   "id": "2b82238a",
   "metadata": {},
   "outputs": [],
   "source": []
  }
 ],
 "metadata": {
  "kernelspec": {
   "display_name": "Python 3",
   "language": "python",
   "name": "python3"
  },
  "language_info": {
   "codemirror_mode": {
    "name": "ipython",
    "version": 3
   },
   "file_extension": ".py",
   "mimetype": "text/x-python",
   "name": "python",
   "nbconvert_exporter": "python",
   "pygments_lexer": "ipython3",
   "version": "3.8.8"
  }
 },
 "nbformat": 4,
 "nbformat_minor": 5
}
